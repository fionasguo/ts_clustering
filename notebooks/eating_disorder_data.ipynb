{
 "cells": [
  {
   "cell_type": "code",
   "execution_count": 1,
   "metadata": {},
   "outputs": [],
   "source": [
    "import pandas as pd\n",
    "import numpy as np\n",
    "import matplotlib.pyplot as plt"
   ]
  },
  {
   "cell_type": "code",
   "execution_count": 2,
   "metadata": {},
   "outputs": [],
   "source": [
    "data_dir = '/nas/eclairnas01/users/siyiguo/eating_disorder_data/df_emo_RT_toxicity_scores.csv'"
   ]
  },
  {
   "cell_type": "code",
   "execution_count": 5,
   "metadata": {},
   "outputs": [
    {
     "data": {
      "text/plain": [
       "Index(['tweet_id', 'author_id', 'created_at', 'text', 'retweet',\n",
       "       'parent_author_id', 'parent_created_at', 'community_id', 'Anger',\n",
       "       'Anticipation', 'Disgust', 'Fear', 'Joy', 'Love', 'Optimism',\n",
       "       'Pessimism', 'Sadness', 'Surprise', 'Trust', 'No emotion detected',\n",
       "       'max_emo', 'toxicity', 'severe_toxicity', 'obscene', 'threat', 'insult',\n",
       "       'identity_attack'],\n",
       "      dtype='object')"
      ]
     },
     "execution_count": 5,
     "metadata": {},
     "output_type": "execute_result"
    }
   ],
   "source": [
    "df = pd.read_csv(data_dir,lineterminator='\\n',nrows=1000)\n",
    "df['created_at'] = pd.to_datetime(df['created_at'])\n",
    "df.columns"
   ]
  },
  {
   "cell_type": "code",
   "execution_count": 20,
   "metadata": {},
   "outputs": [
    {
     "data": {
      "text/plain": [
       "Timestamp('2023-03-10 22:18:50+0000', tz='UTC')"
      ]
     },
     "execution_count": 20,
     "metadata": {},
     "output_type": "execute_result"
    }
   ],
   "source": [
    "df['created_at'].min()"
   ]
  },
  {
   "cell_type": "code",
   "execution_count": 30,
   "metadata": {},
   "outputs": [],
   "source": [
    "entire_time_range = pd.date_range(start='2023-03-10',end='2023-03-11',freq='12H',tz='utc')\n",
    "\n",
    "user_ts_count = df.groupby(['author_id',pd.Grouper(freq='12H',key='created_at')])['tweet_id'].count()\n",
    "# user_ts_count = user_ts_count.reindex(pd.MultiIndex.from_product([user_ts_count.index.levels[0],entire_time_range],names=['author_id','created_at']),fill_value=0)\n"
   ]
  },
  {
   "cell_type": "code",
   "execution_count": 28,
   "metadata": {},
   "outputs": [
    {
     "data": {
      "text/plain": [
       "author_id            created_at               \n",
       "764870               2023-03-10 12:00:00+00:00    1\n",
       "6633782              2023-03-10 12:00:00+00:00    1\n",
       "11891512             2023-03-10 12:00:00+00:00    1\n",
       "14106569             2023-03-10 12:00:00+00:00    1\n",
       "14285025             2023-03-10 12:00:00+00:00    1\n",
       "                                                 ..\n",
       "1634328743798874114  2023-03-10 12:00:00+00:00    2\n",
       "1634329930405236738  2023-03-10 12:00:00+00:00    1\n",
       "1634330007853228033  2023-03-10 12:00:00+00:00    1\n",
       "1634330325298868224  2023-03-10 12:00:00+00:00    1\n",
       "1634331406833795073  2023-03-10 12:00:00+00:00    1\n",
       "Name: tweet_id, Length: 818, dtype: int64"
      ]
     },
     "execution_count": 28,
     "metadata": {},
     "output_type": "execute_result"
    }
   ],
   "source": [
    "user_ts_count#.groupby(level=0).mean()"
   ]
  },
  {
   "cell_type": "code",
   "execution_count": 31,
   "metadata": {},
   "outputs": [
    {
     "data": {
      "text/plain": [
       "author_id            created_at               \n",
       "764870               2023-03-10 00:00:00+00:00    0\n",
       "                     2023-03-10 12:00:00+00:00    1\n",
       "                     2023-03-11 00:00:00+00:00    0\n",
       "6633782              2023-03-10 00:00:00+00:00    0\n",
       "                     2023-03-10 12:00:00+00:00    1\n",
       "                                                 ..\n",
       "1634330325298868224  2023-03-10 12:00:00+00:00    1\n",
       "                     2023-03-11 00:00:00+00:00    0\n",
       "1634331406833795073  2023-03-10 00:00:00+00:00    0\n",
       "                     2023-03-10 12:00:00+00:00    1\n",
       "                     2023-03-11 00:00:00+00:00    0\n",
       "Name: tweet_id, Length: 2454, dtype: int64"
      ]
     },
     "execution_count": 31,
     "metadata": {},
     "output_type": "execute_result"
    }
   ],
   "source": [
    "user_ts_count.reindex(pd.MultiIndex.from_product([user_ts_count.index.levels[0],entire_time_range],names=['author_id','created_at']),fill_value=0)"
   ]
  },
  {
   "cell_type": "code",
   "execution_count": null,
   "metadata": {},
   "outputs": [],
   "source": [
    "from collections import Counter\n",
    "import pandas as pd\n",
    "import re\n",
    "import pickle\n",
    "import numpy as np\n",
    "from ast import literal_eval\n",
    "import matplotlib.pyplot as plt\n",
    "import seaborn as sns\n",
    "from sklearn.manifold import TSNE\n",
    "from sklearn.metrics import confusion_matrix"
   ]
  },
  {
   "cell_type": "markdown",
   "metadata": {},
   "source": [
    "### Plot TSNE"
   ]
  },
  {
   "cell_type": "code",
   "execution_count": null,
   "metadata": {},
   "outputs": [],
   "source": [
    "def plot_tsne(tsne_results,labels,target_set,title,legend=None):\n",
    "    plt.figure(figsize=(6, 6))\n",
    "    # plt.xlim((-40, 40))\n",
    "    # plt.ylim((-40, 40))\n",
    "\n",
    "    if legend is None:\n",
    "        legend = target_set\n",
    "\n",
    "    markers = ['.','1','v','s','p','*','+','X','d','^']\n",
    "\n",
    "    for target,color,leg,mark in zip(reversed(target_set),sns.color_palette(\"hls\", len(target_set)),reversed(legend),markers):\n",
    "        fig = plt.scatter(tsne_results[np.isin(labels,target)][:, 0],\n",
    "                          tsne_results[np.isin(labels,target)][:, 1],\n",
    "                          color=color,alpha=0.2,marker=mark,\n",
    "                          label=leg)\n",
    "    plt.legend()\n",
    "    plt.title(title)\n",
    "    return fig\n",
    "\n",
    "def cluster_analysis(embeddings_dir,gt_dir,preds_dir,embedding_type,tsne_results=None):\n",
    "    # embeddings from the model\n",
    "    embeddings = pickle.load(open(embeddings_dir,'rb'))\n",
    "    preds = pickle.load(open(preds_dir,'rb'))\n",
    "    test_gt = pd.read_csv(gt_dir)\n",
    "    labels = test_gt['label'].values\n",
    "    cluster0_labels = test_gt['cluster0_label'].values\n",
    "\n",
    "    if tsne_results is None:\n",
    "        tsne = TSNE(n_components=2, verbose=0) #, perplexity=40, n_iter=300\n",
    "        tsne_results = tsne.fit_transform(embeddings)\n",
    "\n",
    "    # plot biggest cluster 0 and unknow cluster 95\n",
    "    plot_tsne(tsne_results,labels,[0,max(labels)],f'{embedding_type} - biggest cluster & noise in GT')\n",
    "    plt.show()\n",
    "    \n",
    "    # plot biggest cluster 0\n",
    "    plot_tsne(tsne_results,labels,[0],f'{embedding_type} - biggest cluster in GT')\n",
    "    plt.show()\n",
    "\n",
    "    # # plot top 7 clusters other than the biggest cluster 0\n",
    "    # plot_tsne(tsne_results,labels,[33, 43, 49, 22, 54, 56, 6],f'{embedding_type} - other top 7 cluster in GT')\n",
    "    # plt.show()\n",
    "\n",
    "    # plot biggest cluster 0 by different hashtag usage\n",
    "    g = plot_tsne(tsne_results,cluster0_labels,list([0.1,0.2,0.3,0.4,0.5,0.6]),f'{embedding_type} - biggest cluster in GT by different hashtags',legend=['#Marine2017','#JLM2017','#Fillon2017','#Hamon2017','#Gabon','#RPFavecFF'])\n",
    "    # handles, legend_labels  =  g.get_legend_handles_labels()\n",
    "    # g.legend(handles, )\n",
    "    plt.show()\n",
    "\n",
    "    # plot biggest cluster 0 by different hashtag usage plus 95 unknown\n",
    "    g = plot_tsne(tsne_results,cluster0_labels,list([0.0,0.1,0.2,0.3,0.4,0.5,0.6,max(labels)]),f'{embedding_type} - biggest cluster in GT by different hashtags and noise',legend=['unknown in cluster 0','#Marine2017','#JLM2017','#Fillon2017','#Hamon2017','#Gabon','#RPFavecFF', f\"unknwon {max(labels)}\"])\n",
    "    # handles, legend_labels  =  g.get_legend_handles_labels()\n",
    "    # g.legend(handles, )\n",
    "    plt.show()\n",
    "\n",
    "    # plot model predicted clusters\n",
    "    plot_tsne(tsne_results[np.isin(labels,[0])],preds[np.isin(labels,[0])],np.unique(preds[np.isin(labels,[0])]),f'{embedding_type} - Model Predicted Clusters')\n",
    "\n",
    "    # compare predicted cluster with gt labels in the biggest cluster\n",
    "    # conf_mtx = confusion_matrix(cluster0_labels[np.isin(labels,[0])]-1, preds[np.isin(labels,[0])])\n",
    "    # print('confusion matrix:')\n",
    "    # print(conf_mtx)\n",
    "\n",
    "    return tsne_results #, conf_mtx"
   ]
  },
  {
   "cell_type": "code",
   "execution_count": null,
   "metadata": {},
   "outputs": [],
   "source": [
    "embeddings_dir = '../test_phase1a_bert_pca_lownoise/test_data_embeddings.pkl'\n",
    "preds_dir = '../test_phase1a_bert_pca_lownoise/test_data_preds.pkl'\n",
    "gt_dir = '/nas/eclairnas01/users/siyiguo/incas_data/phase1a_time_coord_gt_data_df.csv'\n",
    "\n",
    "embeddings = pickle.load(open(embeddings_dir,'rb'))\n",
    "tsne = TSNE(n_components=2, verbose=0) #, perplexity=40, n_iter=300\n",
    "tsne_results_bertpca_lownoise = tsne.fit_transform(embeddings)\n",
    "\n",
    "pickle.dump(tsne_results_bertpca_lownoise,open('../test_phase1a_bert_pca_lownoise/test_data_tsne_bertpca.pkl','wb'))\n",
    "\n",
    "# tsne_results_bertpca_lownoise = pickle.load(open('../test_phase1a_bert_pca_midnoise/test_data_tsne_bertpca.pkl','rb'))\n",
    "\n",
    "tsne_results_bertpca_lownoise = cluster_analysis(embeddings_dir,gt_dir,preds_dir,'Feature: BERT PCA-5',tsne_results=tsne_results_bertpca_lownoise)"
   ]
  }
 ],
 "metadata": {
  "kernelspec": {
   "display_name": "ts_embed",
   "language": "python",
   "name": "python3"
  },
  "language_info": {
   "codemirror_mode": {
    "name": "ipython",
    "version": 3
   },
   "file_extension": ".py",
   "mimetype": "text/x-python",
   "name": "python",
   "nbconvert_exporter": "python",
   "pygments_lexer": "ipython3",
   "version": "3.9.13"
  }
 },
 "nbformat": 4,
 "nbformat_minor": 2
}
